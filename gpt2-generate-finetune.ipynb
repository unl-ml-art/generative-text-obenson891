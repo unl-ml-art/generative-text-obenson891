{
 "cells": [
  {
   "cell_type": "markdown",
   "metadata": {
    "id": "H7LoMj4GA4n_"
   },
   "source": [
    "#  GPT-2 Generation and Fine-Tuning\n",
    "\n",
    "This notebook explores GPT-2 (Generative Pretrained Transformer-2) from OpenAI. Read more about it [here](https://openai.com/blog/better-language-models/).\n",
    "\n",
    "Activities include:\n",
    "\n",
    "0. Setup\n",
    "1. Generate samples from pre-trained gpt-2 model\n",
    "2. Fine-tune gpt-2 on text of your choosing. \n",
    "\n",
    "Adapted by Robert Twomey (rtwomey@unl.edu) for Machine Learning for the Arts SP22 from this [google colab](https://colab.research.google.com/drive/1VLG8e7YSEwypxU-noRNhsv5dW4NfTGce) by [Max Woolf](http://minimaxir.com). See his repo [gpt-2-simple](https://github.com/minimaxir/gpt-2-simple)."
   ]
  },
  {
   "cell_type": "markdown",
   "metadata": {},
   "source": [
    "# 0. Setup"
   ]
  },
  {
   "cell_type": "markdown",
   "metadata": {},
   "source": [
    "Run once to install the library"
   ]
  },
  {
   "cell_type": "code",
   "execution_count": 1,
   "metadata": {
    "tags": []
   },
   "outputs": [
    {
     "name": "stdout",
     "output_type": "stream",
     "text": [
      "Note: you may need to restart the kernel to use updated packages.\n"
     ]
    }
   ],
   "source": [
    "%pip install -q gpt-2-simple"
   ]
  },
  {
   "cell_type": "markdown",
   "metadata": {},
   "source": [
    "restart the kernel and run the imports\n",
    "\n",
    "RUN THIS EACH TIME\n",
    "\n",
    "# 0.5 Imports: run every time"
   ]
  },
  {
   "cell_type": "code",
   "execution_count": 2,
   "metadata": {
    "id": "KBkpRgBCBS2_"
   },
   "outputs": [],
   "source": [
    "import gpt_2_simple as gpt2\n",
    "import tensorflow as tf\n",
    "from datetime import datetime"
   ]
  },
  {
   "cell_type": "markdown",
   "metadata": {
    "id": "Bj2IJLHP3KwE"
   },
   "source": [
    "## GPU\n",
    "\n",
    "Colaboratory uses either a Nvidia T4 GPU or an Nvidia K80 GPU. The T4 is slightly faster than the old K80 for training GPT-2, and has more memory allowing you to train the larger GPT-2 models and generate more text.\n",
    "\n",
    "You can verify which GPU is active by running the cell below.\n",
    "\n",
    "DONT NEED TO RUN THIS EACH TIME"
   ]
  },
  {
   "cell_type": "code",
   "execution_count": 3,
   "metadata": {
    "colab": {
     "base_uri": "https://localhost:8080/"
    },
    "id": "sUmTooTW3osf",
    "outputId": "c9fcfa4f-277d-4b3e-8974-373066dc157b"
   },
   "outputs": [
    {
     "name": "stdout",
     "output_type": "stream",
     "text": [
      "Thu Feb 17 13:05:50 2022       \n",
      "+-----------------------------------------------------------------------------+\n",
      "| NVIDIA-SMI 470.63.01    Driver Version: 470.63.01    CUDA Version: 11.4     |\n",
      "|-------------------------------+----------------------+----------------------+\n",
      "| GPU  Name        Persistence-M| Bus-Id        Disp.A | Volatile Uncorr. ECC |\n",
      "| Fan  Temp  Perf  Pwr:Usage/Cap|         Memory-Usage | GPU-Util  Compute M. |\n",
      "|                               |                      |               MIG M. |\n",
      "|===============================+======================+======================|\n",
      "|   0  Tesla V100-PCIE...  On   | 00000000:D8:00.0 Off |                    0 |\n",
      "| N/A   33C    P0    25W / 250W |      0MiB / 32510MiB |      0%      Default |\n",
      "|                               |                      |                  N/A |\n",
      "+-------------------------------+----------------------+----------------------+\n",
      "                                                                               \n",
      "+-----------------------------------------------------------------------------+\n",
      "| Processes:                                                                  |\n",
      "|  GPU   GI   CI        PID   Type   Process name                  GPU Memory |\n",
      "|        ID   ID                                                   Usage      |\n",
      "|=============================================================================|\n",
      "|  No running processes found                                                 |\n",
      "+-----------------------------------------------------------------------------+\n"
     ]
    }
   ],
   "source": [
    "!nvidia-smi"
   ]
  },
  {
   "cell_type": "markdown",
   "metadata": {},
   "source": [
    "note the memory usage (0MiB / 32510MiB) for the Tesla V100.\n",
    "You can re-rerun the above cell to see what memory your code/models are using during training."
   ]
  },
  {
   "cell_type": "markdown",
   "metadata": {
    "id": "0wXB05bPDYxS"
   },
   "source": [
    "## Downloading GPT-2\n",
    "\n",
    "If you're retraining a model on new text, you need to download the GPT-2 model first. \n",
    "\n",
    "There are four released sizes of GPT-2:\n",
    "\n",
    "* `124M` (default): the \"small\" model, 500MB on disk.\n",
    "* `355M`: the \"medium\" model, 1.5GB on disk.\n",
    "* `774M`: the \"large\" model, cannot currently be finetuned with Colaboratory but can be used to generate text from the pretrained model (see later in Notebook)\n",
    "* `1558M`: the \"extra large\", true model. Will not work if a K80/P4 GPU is attached to the notebook. (like `774M`, it cannot be finetuned).\n",
    "\n",
    "Larger models have more knowledge, but take longer to finetune and longer to generate text. You can specify which base model to use by changing `model_name` in the cells below.\n",
    "\n",
    "The next cell downloads it from Google Cloud Storage and saves it in the the current working directory at `/models/<model_name>`.\n",
    "\n",
    "RUN THIS"
   ]
  },
  {
   "cell_type": "code",
   "execution_count": 4,
   "metadata": {
    "colab": {
     "base_uri": "https://localhost:8080/"
    },
    "id": "P8wSlgXoDPCR",
    "outputId": "10fc0d7c-d18f-4e11-a2af-bfade8b537eb",
    "tags": []
   },
   "outputs": [],
   "source": [
    "model_name = \"355M\" # largest model we can fine-tune"
   ]
  },
  {
   "cell_type": "markdown",
   "metadata": {},
   "source": [
    "run once to download the file\n",
    "\n",
    "don't need to do this again:"
   ]
  },
  {
   "cell_type": "code",
   "execution_count": 5,
   "metadata": {},
   "outputs": [
    {
     "name": "stderr",
     "output_type": "stream",
     "text": [
      "Fetching checkpoint: 1.05Mit [00:00, 450Mit/s]                                                      \n",
      "Fetching encoder.json: 1.05Mit [00:00, 4.71Mit/s]                                                   \n",
      "Fetching hparams.json: 1.05Mit [00:00, 1.67Git/s]                                                   \n",
      "Fetching model.ckpt.data-00000-of-00001: 1.42Git [00:22, 62.2Mit/s]                                 \n",
      "Fetching model.ckpt.index: 1.05Mit [00:00, 1.34Git/s]                                               \n",
      "Fetching model.ckpt.meta: 1.05Mit [00:00, 4.22Mit/s]                                                \n",
      "Fetching vocab.bpe: 1.05Mit [00:00, 5.47Mit/s]                                                      \n"
     ]
    }
   ],
   "source": [
    "gpt2.download_gpt2(model_name=model_name)"
   ]
  },
  {
   "cell_type": "markdown",
   "metadata": {
    "id": "QQAN3M6RT7Kj"
   },
   "source": [
    "# 1. Generate Text From The Pretrained Model\n",
    "\n",
    "If you want to generate text from the pretrained model pass `model_name` to `gpt2.load_gpt2()` and `gpt2.generate()`. (This is currently the only way to generate text from the 774M or 1558M models with this notebook.)"
   ]
  },
  {
   "cell_type": "code",
   "execution_count": 9,
   "metadata": {
    "colab": {
     "base_uri": "https://localhost:8080/",
     "height": 124
    },
    "id": "BAe4NpKNUj2C",
    "outputId": "b09bfe1d-2ff8-4b8a-fffb-273d28d5d4ae",
    "tags": []
   },
   "outputs": [
    {
     "name": "stderr",
     "output_type": "stream",
     "text": [
      "2022-02-17 13:06:50.062284: I tensorflow/core/platform/cpu_feature_guard.cc:142] This TensorFlow binary is optimized with oneAPI Deep Neural Network Library (oneDNN) to use the following CPU instructions in performance-critical operations:  SSE4.1 SSE4.2 AVX AVX2 AVX512F FMA\n",
      "To enable them in other operations, rebuild TensorFlow with the appropriate compiler flags.\n",
      "2022-02-17 13:06:51.121202: I tensorflow/core/common_runtime/gpu/gpu_device.cc:1510] Created device /job:localhost/replica:0/task:0/device:GPU:0 with 30979 MB memory:  -> device: 0, name: Tesla V100-PCIE-32GB, pci bus id: 0000:d8:00.0, compute capability: 7.0\n"
     ]
    },
    {
     "name": "stdout",
     "output_type": "stream",
     "text": [
      "Loading pretrained model models/355M/model.ckpt\n",
      "INFO:tensorflow:Restoring parameters from models/355M/model.ckpt\n"
     ]
    }
   ],
   "source": [
    "sess = gpt2.start_tf_sess()\n",
    "\n",
    "gpt2.load_gpt2(sess, model_name=model_name)"
   ]
  },
  {
   "cell_type": "markdown",
   "metadata": {},
   "source": [
    "## Sample from the model\n",
    "The follow cell samples from gpt-2, using the provided prefix (seed) and other parameters. It starts the TF session and generates the samples.\n",
    "\n",
    "Try changing the parameters below to change the output: \n",
    "- `prefix` is the prompt. This will be the starting string/seed for your generation. Use your own text. \n",
    "- `temperature` sets the variability/randomness of the output. Range 0.0-1.0\n",
    "- `length` sets the lenght of output (in tokens). max is 1024.\n"
   ]
  },
  {
   "cell_type": "code",
   "execution_count": 10,
   "metadata": {
    "colab": {
     "base_uri": "https://localhost:8080/",
     "height": 797
    },
    "id": "-xInIZKaU104",
    "outputId": "56348e28-7d08-45e3-c859-f26c0efd066d"
   },
   "outputs": [
    {
     "name": "stdout",
     "output_type": "stream",
     "text": [
      "My cat's name is _______. He's a great guy and loves me very much. He's been my friend for the last 10 years. He loves to cuddle, cuddle with me, and I love to cuddle with him. I've been a bit spoiled for affection over the years. I was never asked to do anything and I'm grateful for that. I didn't ask for a cat. I've been lucky to have a very loving, loving family. I've had good parents who always gave me\n",
      "====================\n",
      "My cat's name is ____, and she's very cute and sweet.\" I really like cats, so I asked her to name me after her. The cat is named ____.\n",
      "\n",
      "\"My cat's name is ____, and she's very cute and sweet.\" I really like cats, so I asked her to name me after her. The cat is named ____. \"My cat's name is ____, and she's very cute and sweet.\"\n",
      "\n",
      "\"My cat's name is ____\n",
      "====================\n",
      "My cat's name is _______ and she's a young, beautiful, and very active little cat. She has a very special love of things that sparkle and sparkle and sparkle and sparkle. I've been very lucky to have her for several years now, and I think that's been one of the best things about having her. She's very easy to get along with, very friendly, and she's very excited about everything.\n",
      "\n",
      "How do you feel about your cat's current diet?\n",
      "\n",
      "I\n",
      "====================\n",
      "My cat's name is _____ and he's my best friend. I'm not really sure how to explain this, but he's just so sweet and cute, and he's so friendly. ____ is his name, and ____ is his number.\n",
      "\n",
      "It's been a while since I've posted anything in here, so I hope this isn't too long, but I'm sorry for all the pain I've been through, and I'm sorry that I can't be here to help you with anything!\n",
      "\n",
      "====================\n",
      "My cat's name is ____ and she's my best friend. She's sweet and friendly and I love her to bits. She has been my best friend for the past 2 years. ____ likes to give me treats when she wants one. ____ is super active and likes to play around. ____ has always been a good cat and loves being around people. ____ is great with other animals and is a wonderful dog walker. ____ is a beautiful little girl. ____ is super cute and loves to\n",
      "====================\n"
     ]
    }
   ],
   "source": [
    "gpt2.generate(sess,\n",
    "              model_name=model_name,\n",
    "              prefix=\"My cat's name is \" ,\n",
    "              length=100,\n",
    "              temperature=0.7,\n",
    "              top_p=0.9,\n",
    "              nsamples=5,\n",
    "              batch_size=5\n",
    "              )"
   ]
  },
  {
   "cell_type": "markdown",
   "metadata": {},
   "source": [
    "## Activities\n",
    "- try varying the prefix. \n",
    "  - what length of prefix works best with the given model? \n",
    "  - how does the choice of prefix change the format/form of the output.\n",
    "- try varying the temperature.\n",
    "- try loading the different sized models (124M, 355M, 774M, 1558M) and generate text without changing the other parameters. \n",
    "  - Do you notice any qualitative differences in the output? "
   ]
  },
  {
   "cell_type": "markdown",
   "metadata": {},
   "source": [
    "# 2. Fine-Tuning GPT-2"
   ]
  },
  {
   "cell_type": "markdown",
   "metadata": {},
   "source": [
    "If you have already generated with gpt2, you need to reset the tf graph and gpt2 session. Otherwise, we create a new one:"
   ]
  },
  {
   "cell_type": "code",
   "execution_count": 13,
   "metadata": {
    "colab": {
     "base_uri": "https://localhost:8080/"
    },
    "id": "aeXshJM-Cuaf",
    "outputId": "a3c75caa-917b-4818-ca2d-d78610d8b6f2"
   },
   "outputs": [
    {
     "name": "stderr",
     "output_type": "stream",
     "text": [
      "2022-02-17 13:07:13.816590: I tensorflow/core/common_runtime/gpu/gpu_device.cc:1510] Created device /job:localhost/replica:0/task:0/device:GPU:0 with 30979 MB memory:  -> device: 0, name: Tesla V100-PCIE-32GB, pci bus id: 0000:d8:00.0, compute capability: 7.0\n"
     ]
    }
   ],
   "source": [
    "#model_name = \"355M\" # same model as selected above\n",
    "\n",
    "tf.compat.v1.reset_default_graph()\n",
    "\n",
    "# check if sess exists (e.g. if we ran section 1 above)\n",
    "var_exists = 'sess' in locals() or 'sess' in globals()\n",
    "\n",
    "if not var_exists:\n",
    "    sess = gpt2.start_tf_sess()\n",
    "else:\n",
    "    sess = gpt2.reset_session(sess)"
   ]
  },
  {
   "cell_type": "markdown",
   "metadata": {
    "id": "HeeSKtNWUedE"
   },
   "source": [
    "## Upload a text file\n",
    "For this, we will use a text file you provide to finetune (continue training) GPT-2. You can use any plain text (.txt) file. \n",
    "\n",
    "Simply drag and dropy our text file into the file browser at left. \n",
    "\n",
    "Once you have uploaded your file, update the file name in the cell below, then run it."
   ]
  },
  {
   "cell_type": "code",
   "execution_count": 11,
   "metadata": {
    "id": "6OFnPCLADfll"
   },
   "outputs": [],
   "source": [
    "file_name = \"cats.txt\" # your file here"
   ]
  },
  {
   "cell_type": "markdown",
   "metadata": {
    "id": "LdpZQXknFNY3"
   },
   "source": [
    "## Run the finetuning\n",
    "\n",
    "The next cell will start the actual finetuning of GPT-2. It creates a persistent TensorFlow session which stores the training config, then runs the training for the specified number of `steps`. (to have the finetuning run indefinitely, set `steps = -1`)\n",
    "\n",
    "The model checkpoints will be saved in `/checkpoint/run1` by default. The checkpoints are saved every `save_every` steps (can be changed) and when the cell is stopped.\n",
    "\n",
    "The training might time out after 4ish hours; make sure you end training and save the results so you don't lose them. If your input text is smaller, training might proceed more quickly.\n",
    "\n",
    "Other optional-but-helpful parameters for `gpt2.finetune`:\n",
    "\n",
    "*  **`restore_from`**: Set to `fresh` to start training from the base GPT-2, or set to `latest` to restart training from an existing checkpoint.\n",
    "* **`sample_every`**: Number of steps to print example output\n",
    "* **`print_every`**: Number of steps to print training progress.\n",
    "* **`learning_rate`**:  Learning rate for the training. (default `1e-4`, can lower to `1e-5` if you have <1MB input data)\n",
    "*  **`run_name`**: subfolder within `checkpoint` to save the model. This is useful if you want to work with multiple models (will also need to specify  `run_name` when loading the model)\n",
    "* **`overwrite`**: Set to `True` if you want to continue finetuning an existing model (w/ `restore_from='latest'`) without creating duplicate copies. "
   ]
  },
  {
   "cell_type": "code",
   "execution_count": 14,
   "metadata": {},
   "outputs": [
    {
     "name": "stdout",
     "output_type": "stream",
     "text": [
      "For larger models, the recommended finetune() parameters are:\n",
      "\tuse_memory_saving_gradients = True\n",
      "\tonly_train_transformer_layers = True\n",
      "\taccumulate_gradients = 1\n",
      "\n"
     ]
    },
    {
     "name": "stderr",
     "output_type": "stream",
     "text": [
      "2022-02-17 13:07:25.364251: I tensorflow/core/common_runtime/gpu/gpu_device.cc:1510] Created device /job:localhost/replica:0/task:0/device:GPU:0 with 30979 MB memory:  -> device: 0, name: Tesla V100-PCIE-32GB, pci bus id: 0000:d8:00.0, compute capability: 7.0\n"
     ]
    },
    {
     "name": "stdout",
     "output_type": "stream",
     "text": [
      "Loading checkpoint models/355M/model.ckpt\n",
      "INFO:tensorflow:Restoring parameters from models/355M/model.ckpt\n",
      "Loading dataset...\n"
     ]
    },
    {
     "name": "stderr",
     "output_type": "stream",
     "text": [
      "100%|██████████| 1/1 [00:00<00:00, 105.64it/s]"
     ]
    },
    {
     "name": "stdout",
     "output_type": "stream",
     "text": [
      "dataset has 9182 tokens\n",
      "Training...\n"
     ]
    },
    {
     "name": "stderr",
     "output_type": "stream",
     "text": [
      "\n"
     ]
    },
    {
     "name": "stdout",
     "output_type": "stream",
     "text": [
      "[8 | 22.03] loss=2.47 avg=2.47\n",
      "[16 | 37.88] loss=2.27 avg=2.37\n",
      "[24 | 53.73] loss=1.97 avg=2.23\n",
      "[32 | 69.58] loss=2.12 avg=2.20\n",
      "[40 | 85.45] loss=1.88 avg=2.14\n",
      "[48 | 101.30] loss=1.79 avg=2.08\n",
      "======== SAMPLE 1 ========\n",
      " stimulation, the effect of the test object on heart rate decreases with increasing time spent in a closed position. In addition, the response to novelty may be increased with increasing time spent in a closed position. These results suggest that an object that is either in the open or closed position can generate an effect similar to that of an active computer mouse.<|endoftext|>If you're as bored as me in front of the TV as I am and only have one thing to do — take a stroll down memory lane as I make the rounds of this year's Anime Expo. And if only it wasn't the nostalgia that's making me so excited! After all, the year is 2000, so it might have been a good time for me to get a little nostalgic. I mean, I had all my favorite anime growing up, right?\n",
      "\n",
      "Well, you know what makes this season of Anime Expo such a special one for me? It's Anime Expo! And the time I spend at the AVC is the time I have for myself, the time that I spend watching all the shows I've loved all my life combined! The time I can really chill in the air, relax in my booth and watch new and exciting anime to see what all the buzz is about!\n",
      "\n",
      "What's more, there's something special about this show that I haven't encountered before at an Anime Expo. I saw it first hand in person at San Diego Comic-Con, which is one year removed from the show's original airing. That's right: I found Anime Expo and never looked back!\n",
      "\n",
      "So how can I enjoy this show like I've never been a fan of it before?\n",
      "\n",
      "Well, for one, it's the most anime I want to watch, period! In fact, I'm about to make sure I own every single issue of Dark Horse Comics' manga magazine on my new comic book shelf! My love for classic Japanese animation knows no bounds!\n",
      "\n",
      "For another big reason, Dark Horse Comics is bringing this series back to bookstores this year for the very first time! In honor of the 30th anniversary of this seminal series, Dark Horse Comics is running a new bonus issue to celebrate the occasion. To celebrate the occasion, fans can get in on one of these special editions before the rest of the world gets to read it! (Please note: this content cannot be acquired through normal means. Some bookstores are currently asking that fans purchase it through the regular stores. In these stores, it is not possible to purchase it due to the sale. The bonus content cannot be viewed.)\n",
      "\n",
      "Now that I wrote my review, I know there's been a lot of discussion about the issue's presence in the back room. If there's one thing that makes me so happy about Dark Horse Comics, it's creating something different for our readers to experience. So, when all the fanfare is about to start, let me tell you, we're not doing it on purpose. I swear to you, we have our reasons for doing this. But what are we going to do about it? We've got a plan — and it's going to work. The bonus issue is going to be there, ready to grab your attention. Let's get to it….\n",
      "\n",
      "Bonus: My First Comic in 10 Years\n",
      "\n",
      "In July of 2005, I first became aware of Dark Horse Comics when I was looking for something else to read! I was searching for something different when I saw a listing on GoodReads.com for the issue of Berserk called \"Dark Knight of the South.\" I had fallen in love instantly with this series, and the fact that it was being collected with other older titles made me want to read everything. After years of waiting, we finally had the privilege to pick up the series from Dark Horse Comics.\n",
      "\n",
      "The fact that this series is being brought back for one more time is an incredible honor. It also means that I will be reading it all again one day in honor of the occasion!\n",
      "\n",
      "So what can I expect from this special issue?\n",
      "\n",
      "A complete reread of the entire series! To read this amazing tale of a knight saving a princess from a dragon, we're going to have to relive the event over and over again!\n",
      "\n",
      "A complete reread of the entire series! To read this amazing tale of a knight saving a princess from a dragon, we're going to have to relive the event over and over again! A few funny illustrations with my favorite characters! In many ways, this release will be more faithful to my childhood love of anime. It will be funny, with good-natured illustrations. And it will tell the tale of two knights who find themselves in a conflict that's far deeper than any of them ever imagined possible.\n",
      "\n",
      "In many ways, this release will be more faithful to my childhood love of anime. It will be funny, with good-natured illustrations. And it will give you all three of my favorite voices in one issue: Yui Ishida as Akane, M\n",
      "\n",
      "[56 | 130.34] loss=1.52 avg=2.00\n",
      "[64 | 146.21] loss=1.40 avg=1.92\n",
      "[72 | 162.05] loss=1.24 avg=1.84\n",
      "[80 | 177.92] loss=0.93 avg=1.74\n",
      "[88 | 193.77] loss=0.78 avg=1.65\n",
      "[96 | 209.62] loss=0.53 avg=1.55\n",
      "Saving checkpoint/run1/model-100\n"
     ]
    }
   ],
   "source": [
    "gpt2.finetune(sess,\n",
    "              dataset=file_name,\n",
    "              model_name=model_name,\n",
    "              steps=100,            #depending on size of text this changes (maybe 1000?)\n",
    "              restore_from='fresh', # change to 'latest' to resume\n",
    "              run_name='run1',\n",
    "              print_every=8,\n",
    "              learning_rate=1e-5,\n",
    "              #learning rate smaller, learns less per step\n",
    "              sample_every=50,\n",
    "              save_every=100\n",
    "              )"
   ]
  },
  {
   "cell_type": "markdown",
   "metadata": {
    "id": "IXSuTNERaw6K"
   },
   "source": [
    "## Notes on finetuning\n",
    "\n",
    "Keep an eye on the loss, and how quickly it is dropping. A too-rapid drop in loss could be a sign of overfitting, and a learning rate (lr) that is too high. \n",
    "\n",
    "After the model is trained, you can download the checkpoint folder to save your work. Training checkpoints are saved to `checkpoint/run1` (or whatever you chose for the run name above).\n",
    "\n",
    "You can compress it to a rar file and download that. Ask the instructor how.\n",
    "\n",
    "You're done! Feel free to go to the Generate Text From The Trained Model section to generate text based on your retrained model."
   ]
  },
  {
   "cell_type": "markdown",
   "metadata": {},
   "source": [
    "## Finetune some more"
   ]
  },
  {
   "cell_type": "markdown",
   "metadata": {},
   "source": [
    "If you have already generated with gpt2, you need to reset the tf graph and gpt2 session. Otherwise, we create a new one:"
   ]
  },
  {
   "cell_type": "code",
   "execution_count": null,
   "metadata": {
    "colab": {
     "base_uri": "https://localhost:8080/"
    },
    "id": "aeXshJM-Cuaf",
    "jupyter": {
     "source_hidden": true
    },
    "outputId": "a3c75caa-917b-4818-ca2d-d78610d8b6f2",
    "tags": []
   },
   "outputs": [],
   "source": [
    "#model_name = \"355M\" # same model as selected above\n",
    "\n",
    "tf.compat.v1.reset_default_graph()\n",
    "\n",
    "# check if sess exists (e.g. if we ran section 1 above)\n",
    "var_exists = 'sess' in locals() or 'sess' in globals()\n",
    "\n",
    "if not var_exists:\n",
    "    sess = gpt2.start_tf_sess()\n",
    "else:\n",
    "    sess = gpt2.reset_session(sess)"
   ]
  },
  {
   "cell_type": "markdown",
   "metadata": {},
   "source": [
    "To fine-tune some more, run the following. Be sure to increase the number of steps (if it was `500` before, change to `1000` to train for 500 more. the number is cumulative)."
   ]
  },
  {
   "cell_type": "code",
   "execution_count": null,
   "metadata": {
    "jupyter": {
     "source_hidden": true
    },
    "tags": []
   },
   "outputs": [],
   "source": [
    "gpt2.finetune(sess,\n",
    "              dataset=file_name,\n",
    "              model_name=model_name,\n",
    "              steps=20,\n",
    "              restore_from='latest', # change to 'latest' to resume\n",
    "              run_name='run1',\n",
    "              print_every=10,\n",
    "              learning_rate=1e-5,\n",
    "              sample_every=100,\n",
    "              save_every=100\n",
    "              )"
   ]
  },
  {
   "cell_type": "markdown",
   "metadata": {
    "id": "ClJwpF_ACONp"
   },
   "source": [
    "# 3. Generate Text From The Finetuned Model\n",
    "\n",
    "After you've trained the model or loaded a retrained model from checkpoint, you can now generate text. `generate` generates a single text from the loaded model."
   ]
  },
  {
   "cell_type": "code",
   "execution_count": 15,
   "metadata": {
    "colab": {
     "base_uri": "https://localhost:8080/"
    },
    "id": "4RNY6RBI9LmL",
    "outputId": "82574eaa-d39a-4665-b611-e5172848da57",
    "tags": []
   },
   "outputs": [
    {
     "name": "stdout",
     "output_type": "stream",
     "text": [
      "In short, Beale is a data journalist, so his research should be more in-depth than what you'll find in his articles. He is a big fan of statistics and therefore he will be fascinated by the physical properties of things. Beale has been a student of physiology for a while now, and he has been encouraged by the work of colleagues such as Dr. Rebecca Bardwell at the University of Edinburgh to pursue a career in this area. Beale knows his subjects well, and he is interested in hearing their perspectives on the world. Beale will be particularly interested in hearing about the challenges they face, and how they are working to overcome them. Beale is curious about the social and cultural changes taking place in these areas, and he will be interested to know how people are adapting to change. Beale is a big reader, and he will be looking forward to reading something he has never before been able to read. Beale is highly motivated, eager to learn, and enthusiastic about his field of work. He is looking forward to continuing his work with the University of Glasgow's Biology Department, and he is excited to be working with so many talented scientists at Beale & Associates!\n",
      "\n",
      "Sebastian Iacoboni\n",
      "Founder, Beale & Associates\n",
      "Hi there! My name is Sebastian Iacoboni. I am 24 years old, from Spain. I started my career as a model at 15 years old, before I started my studies for a PhD, I was accepted to the Instituto de Ciências Naturales (ICN) in Madrid, where I did my PhD. I was very happy to find myself at the Institute, and I can't wait to start my next chapter at the University of Glasgow!\n",
      "\n",
      "Ingmar Lørgen\n",
      "Professor, Department of Zoology\n",
      "Iacoboni Research Station, Faculty of Biology, The University of Glasgow\n",
      "Icoboni Research Station, Faculty of Biology, The University of Glasgow\n",
      "Ingmar Lørgen (left), a postdoctoral fellow at the Institute of Comparative Zoology, The University of Glasgow, and a fellow of the Royal Society of Edinburgh.\n",
      "Ingmar Lørgen Professor of Comparative Zoology, Department of Biology, The University of Glasgow.\n",
      "Ingmar Lørgen is the first of three students who will take part in the Beale Research Project. He made the announcement on his profile page: \"Ingmar Lørgen is a 22 year old student from the western part of Norway who has recently graduated from the Institute of Comparative Zoology at the University of Oslo. He is interested in studying the biology of animals in the wild, and has recently applied for a position with the Institute of Comparative Zoology. He is very friendly and outgoing, very interested in meeting new people and exploring new places. He loves to play with his pet cat and he says that his new home is the best one he's ever been in. He is very respectful of the natural world and will do his best to make use of it.\"\n",
      "\n",
      "Ingvar Aasberg\n",
      "Tenure-track student, Aarhus University\n",
      "Aasberg Research Station, Faculty of Biology, The University of Glasgow\n",
      "Ingvar Aasberg Tenure-track student, Aarhus University\n",
      "Ingvar Aasberg is a tenured student in the department of biology at the University of Glasgow. He is interested in the biology of animals, and has been studying invertebrates and arthropods at the Aarhus University of Technology. He has been working at the Research Station in his spare time, and is very interested in teaching himself how to work with animals.\n",
      "\n",
      "Ondrej Korolev\n",
      "Associate Professor, Department of Ecology\n",
      "Faculty of Biological Sciences, The University of Glasgow\n",
      "Korolev Research Station, Faculty of Biological Sciences, The University of Glasgow\n",
      "Associate Professor, Department of Ecology , Faculty of Biological Sciences , The University of Glasgow Yours truly, Ondrej Korolev. I was recently informed that Ondrej has become the first student to be accepted to the Beale Research Project as a student within the Department of Ecology at The University of Glasgow. He is an outstanding student, with an outstanding work ethic, and a commitment to learning. He is committed to producing excellent results for his research group, and we are all looking forward to working with him in the coming academic year. Please see the application form for more information. Sincerely, Professor K\n",
      "Rachael Murphy\n",
      "Associate Professor, Department of Entomology\n",
      "Faculty of Biology, The University of Glasgow\n",
      "McKenna Research Station, Faculty of Biology, The University of Glasgow\n",
      "Associate Professor, Department of Entomology , Faculty of Biology , The University of Glasgow Rachel is a first year student in the Department of Entomology of The University of Glasgow. She is interested in the biology of ladybugs, wasps and wasps (adult and larva),\n"
     ]
    }
   ],
   "source": [
    "gpt2.generate(sess, run_name='run1') # no prefix, unconditional generation, tells you what it has learned without prefix"
   ]
  },
  {
   "cell_type": "code",
   "execution_count": 16,
   "metadata": {},
   "outputs": [
    {
     "name": "stdout",
     "output_type": "stream",
     "text": [
      "Garfield\" in 2007, and he was just as grumpy that year. He was a big \"Fool!\" in the movie, but he was more of a softie in real life. He loved playing with his cat toys and going for a walk. He was a total goofball with friends and family. He was very kind and gentle. He loved spending time with animals, especially cats, and was a big fan of nature programs. He loved books and the outdoors, and was a big fan of movies and TV shows. He enjoyed being with animals, and he was a good provider. He was spayed and neutered.\n",
      "\n",
      "Gerald\n",
      "Gerald is a 5-year old boy from Iowa who came to us with his foster mom because he was so aggressive toward other cats in his home. He was so hyper and would jump on your lap to play. He was spayed and well on his way to healthy weight. He has his playful moments and he is very affectionate but he needs his space! Gerald loves to play with other cats, but he is more of a quiet guy. He likes to be under a blanket, he likes being close to you, but he is not the guy who goes bananas in a crowd. He is very mellow and contented.\n",
      "\n",
      "Alex\n",
      "Alex is a 3-year old boy from Cheyenne, WY. He came to us a short time ago with his mom, who has been very upset because she can't understand why he is so upset when he isn't. We came to the decision that since Alex is so young and innocent, he wouldn't be able to fully realize his full potential until he is older. That's why we took him in as a neutered male and he is doing so well! He is always super happy to see you and he loves playing with other cats. He is very friendly and sociable cat. He is very laidback and doesn't get excited over much. He is very contented and contented cat!\n",
      "\n",
      "Ashlynn\n",
      "Ashlynn is a 2-year old girl from Caledonia, ON. She came to us a short time ago with her mom, who had been very upset that she was always getting left out of the house time and time again. We were quite concerned that she was being left out because of her name, but she loved calling herself Ashlynn. She was originally going to be a boy named Oliver, but his mom changed his name to Ash, so now he is named after the elementals in the Disney film \"Frozen\". He is very affectionate and very mash-up friendly, he wanders the house a bit silly, but he is so happy to be in a foster home!\n",
      "\n",
      "Darcy\n",
      "Darcia is a 7-month old girl from Flemingdon, Surrey. Her family moved to the area 10 years ago and now call this area home. Darcy was quite shy before we brought her home as she was quite shy of the other kitties. Now she adores being pet and nuzzled, and her purrs are of joy! Darcy loves being held and she rolls on her belly to get plenty of weight. She also loves being belly rubbed and headbutted, and her back legs are stretched out for those welcome tummies in the summer. Darcy has a hip dysplasia which means her front legs are the front half of her feet, and her back half the other way around. This means that when she walks, her front feet first up, then her back feet and so on. She is naturally shy of mirrors, but she really enjoys being petted and nuzzled on the head, tail and shoulders. In the summer she is as naturally beautiful as can be!\n",
      "\n",
      "Samantha\n",
      "Samantha is a 5-month old girl from Oxon, Surrey. Her family moved to the area 10 years ago and now call this area home. Samantha was quite shy of the other kittens in the litter, but she warmed up quite quickly. Within a month she was practically bouncing in her own litter box. Within a year or two she was bouncing across the floor, belly up, belly down and belly up, belly down all over the place. Within a month or so she was bouncing on to your lap, belly up, belly down, belly up and belly down. Within a year or two she was headbutting you in the ribs. Within 2 weeks she was doing the splits in the gym. Samantha loves being held and snuggled, and her back legs are stretched out for those welcome tummies in the summer.\n",
      "\n",
      "Kitty\n",
      "Kitty is a 1-year old male kitten from Bedfordshire, Greater London. He came to us on craigslist as a kitten and is very timid and scared of people. He is extremely affectionate and playful and would do well in a quiet, loving home.\n",
      "\n",
      "Tiger\n",
      "Tiger is a very affectionate kitten. He likes to sit on\n"
     ]
    }
   ],
   "source": [
    "gpt2.generate(sess, run_name='run1', prefix=\"Garfield\")"
   ]
  },
  {
   "cell_type": "markdown",
   "metadata": {
    "id": "oF4-PqF0Fl7R"
   },
   "source": [
    "## Notes\n",
    "If you're creating an API based on your model and need to pass the generated text elsewhere, you can do `text = gpt2.generate(sess, return_as_list=True)[0]`\n",
    "\n",
    "You can also pass in a `prefix` to the generate function to force the text to start with a given character sequence and generate text from there (good if you add an indicator when the text starts).\n",
    "\n",
    "You can also generate multiple texts at a time by specifing `nsamples`. Unique to GPT-2, you can pass a `batch_size` to generate multiple samples in parallel, giving a massive speedup (in Colaboratory, set a maximum of 20 for `batch_size`).\n",
    "\n",
    "Other optional-but-helpful parameters for `gpt2.generate` and friends:\n",
    "\n",
    "*  **`length`**: Number of tokens to generate (default 1023, the maximum)\n",
    "* **`temperature`**: The higher the temperature, the crazier the text (default 0.7, recommended to keep between 0.7 and 1.0)\n",
    "* **`top_k`**: Limits the generated guesses to the top *k* guesses (default 0 which disables the behavior; if the generated output is super crazy, you may want to set `top_k=40`)\n",
    "* **`top_p`**: Nucleus sampling: limits the generated guesses to a cumulative probability. (gets good results on a dataset with `top_p=0.9`)\n",
    "* **`truncate`**: Truncates the input text until a given sequence, excluding that sequence (e.g. if `truncate='<|endoftext|>'`, the returned text will include everything before the first `<|endoftext|>`). It may be useful to combine this with a smaller `length` if the input texts are short.\n",
    "*  **`include_prefix`**: If using `truncate` and `include_prefix=False`, the specified `prefix` will not be included in the returned text."
   ]
  },
  {
   "cell_type": "markdown",
   "metadata": {
    "id": "zjjEN2Tafhl2"
   },
   "source": [
    "For bulk generation, you can generate a large amount of text to a file and sort out the samples locally on your computer. The next cell will generate a generated text file with a unique timestamp.\n",
    "\n",
    "You can rerun the cells as many times as you want for even more generated texts!"
   ]
  },
  {
   "cell_type": "code",
   "execution_count": 23,
   "metadata": {},
   "outputs": [
    {
     "name": "stdout",
     "output_type": "stream",
     "text": [
      "Columbus Day Parade\n",
      "\n",
      "6pm to?\n",
      "\n",
      "Free Parking\n",
      "\n",
      "Celebrate Columbus Day at the Columbus Day Parade! The parade will begin and end at the corner of East Towne and South Main Streets. You can take in the scenery from a distance or sit back and enjoy the music and entertainment of the weekend's top talent. You can even stop by the Downtown Farmers' Market to pick up some of your own fresh produce!\n",
      "\n",
      "Saturday, June 1\n",
      "Sunday, June 2\n",
      "Farm to Table: Bitter Springs\n",
      "10 am to 6 pm\n",
      "In this community-sustaining program, participants help care for and feed desert tortoises at the Bitter Springs Marine Mammal Center. Volunteers cook for the animals and help them with daily maintenance tasks. Volunteers must be able to handle the work and be pet-friendly. Volunteers must be in good health.\n",
      "\n",
      "Picnic with a Cause: Puget Sound\n",
      "10 am to 5 pm\n",
      "Come on out for a fun and family-friendly day out with your family! Kids can play a game or two, while parents can enjoy picnic tables, a fire ring, beer, and a good book.\n",
      "\n",
      "Karaoke! with the City of Seattle\n",
      "10 am to 5 pm\n",
      "Karaoke City at Harborplace is a neighborhood event for the entire family, where you can come out and sing, make out, and share stories. There's something for everyone!\n",
      "\n",
      "Meet the Robinsons: The Musical\n",
      "10 am to 5 pm\n",
      "Meet the Robinsons is a charming childrens show about an ordinary family who have the power to change anyone into anything they want! It's a special time when the family can watch as their dog Bobo shows everyone around town what real affection looks like. It's a magical time when the entire neighborhood can come out and celebrate! It's the perfect time for kids of all ages to get into the show business! It's the time of year when the\n",
      "====================\n",
      "ColumbusDaycare.com\n",
      "\n",
      "After being committed to a daycare for only a few days, Sandy and her sister Lola were ready to brave the cold and snow for the first time. In the four short weeks that followed, the three of them have become quite the team. They do all the playing together, they work together, and they play together all the time. They even make their own snow angels! Their dedication to being a good sister has paid off, and Sandy and Lola are ready to find a home with loving parents who are as excited about welcoming them home as they are about welcoming them to their forever families!\n",
      "\n",
      "K.K. Kringle\n",
      "Young  Female  Small  Gray & White\n",
      "K.K. Kringle is a very pretty, young kitty. She might be a little shy of people, but she LOVES to be petted and she SHRIES iteeeET. You can tell she really likes attention because she stretches out in iteeeET of it very quickly. Her tummy is BAM! And that white belly?? That's because she's a HUGE BABY KITTEN KITTEN KITTEN Kitten. She weighs in at a healthy litter weight of around 3 months old. Kitten photos can be seen on kringle.com\n",
      "Cherry\n",
      "Kitten  Female  Small  Gray & White\n",
      "Wow, what a cute lil' cherry! Cherry is a 1 ½ year old girl who came in with a hard coat that had begun to peel off. When we took her in she immediately seemed to like the fresh coat she got in her new home. Upon arrival to our kennel she immediately began enjoying her new home and litter. Upon our second visit she quickly transitioned to a clean slate litter and seems to be fine with that as well. Upon her return to her old home she immediately began taking full advantage of the clean slate area. We've seen\n",
      "====================\n",
      "Columbus, OH 44104\n",
      "Hi Adam. I'm Rachel. I'm a 1 to 5 year old. I'm quite playful. Unfortunately, I'm also quite shy. When I'm around other people, I can be a bit shy. Please don't be discouraged if I'm a little shy around new people. I just like meeting new people and having a good time. I also enjoy being pet, scratched, cuddled, cuddly, etc. I actually like being called names a lot. I have a little boy's voice and a little girl's voice. I'm pretty spectrum-active. I fall somewhere on the spectrum between being completely normal, and being extremely rare. I'm mostly talked-about here in Columbus, Ohio, and other areas of eastern North America. I'm not very sociable, and if I am, it's usually to other humans. If you happen to see me, or have a conversation about me, it generally goes something like this: \"Hey, what's up?\" \"Yep, I saw you around the corner!\" Or, \"Hey, I saw you walking by my spot a while back!\" Or, \"Hey, how ya doing, what's up?\" \"I'm fine, just a little nervous\", or \"Hey, how are you doing, what's up?\" \"I'm really happy to see you, how ya doing?\" \"Ok, so what's going on?\" \"I just saw you for the first time. I froze up for a second, but then I just started laughing!\" So, that's pretty cool. \"Cool, what's the matter?\" \"I just saw you for the first time, and I was really surprised! I was so freaked out! I thought maybe you were watching me and recording me?!\" \"Oh my, no, I wasn't! I was so happy! I just wanted to sit and watch you! I thought maybe you were going to leave!\" \"Oh my, that\n",
      "====================\n",
      "Columbus, OH\n",
      "\n",
      "March 2, 2015\n",
      "\n",
      "20 years old\n",
      "\n",
      "\n",
      "I am a sweet and shy boy, I am super shy and quiet around strangers. I am good with my hands and a good litter box is highly recommended. I enjoy eating and talking to people. I am friendly and cuddly and I will make a good companion in anyone's home.\n",
      "\n",
      "Colby, Vt\n",
      "20 years old\n",
      "Tiger stripe cat\n",
      "At heart, I am a tiger. I am a seasoned cat who has used my splendor as a stage to share my pain and frustration with the world. I was born with spines on my back that were intentionally injured by a previous owner, and I have lived out my life as if they never happened. I experience tremendous fear and hopelessness year-round, and I have no wish to ever repay that fear—never in a million years.\n",
      "\n",
      "Tiger stripes on my back were intentionally inflicted on me by my previous owner. My life was destroyed by this act, and I am still recovering. I am on a complete remission from this affliction.\n",
      "\n",
      "I was neutered when I was a kitten, but was never vaccinated against the human papillomavirus (HPV) virus. This meant that as soon as I got home with my new pooch, he or she could potentially get the infection from eating, sharing, or being with me. Thankfully, my new owner has a doctor-approved medical procedure to remove the cancerous cells from my cervix and uterus, and this beautiful cat is undergoing this procedure every two weeks for the past six months. Once my cancer has been removed, I will be ready for love like never before.\n",
      "\n",
      "Olive, 1 year old\n",
      "\n",
      "Boxer\n",
      "I am a beautiful cat named Olive. I was born with pink underbellies and the color is permanent. I was also born with spina bifida, a rare condition that causes one half\n",
      "====================\n",
      "Columbus Crew SC home match tickets on sale now | Major League Soccer schedule\n",
      "\n",
      "PORTLAND, Ore. – The Portland Timbers welcomed back Damian Ousted to the team today for the third consecutive match, as the Brazilian started the season opener against the San Jose Earthquakes.\n",
      "\n",
      "Ousted started the match in place of the injured Nicolas Lodeiro, and was very effective in his first action of the preseason. He controlled play well, with some impressive counterattacks. This was his first start of the preseason, so he definitely needs some time to adjust to the rigors of preseason play.\n",
      "\n",
      "Kekuta Manneh returned to the starting lineup after missing the game with a knee injury. He started and played the entire first half, mostly as a lone striker. He didn't have much of an impact, but that could be because he wasn't used to playing there.\n",
      "\n",
      "Morgan Brian received his first start of the preseason, coming on as a second half sub. He made some good runs down the right flank, but wasn't tested very much.\n",
      "\n",
      "Marc Burch made his MLS debut, coming on as a second half sub. He played the entire match for the visitors, and was very good. He was always active up and down the field, and had a few good chances, but they were quickly cleared away.\n",
      "\n",
      "Union Berlin opened their preseason against CSKA Moscow on Friday, July 13. Kickoff for that match is 7pm CEST. Tickets are on sale now at the Big O Box Office, on-line at www.ticketmaster.com/us/team/portlandtacticsfc and by phone at (503) 823-GOAL.<|endoftext|>Is the county hospital in Bishkek the best place to live? That depends on whom you ask. The following are some of the views of the city from some of the top-ranked apartments in the city. It's hard to pick just two. But we can\n",
      "====================\n"
     ]
    }
   ],
   "source": [
    "gpt2.generate(sess,\n",
    "              length=400,\n",
    "              temperature=0.8,\n",
    "              prefix=\"Columbus\",\n",
    "              nsamples=5,\n",
    "              batch_size=5\n",
    "              )"
   ]
  },
  {
   "cell_type": "code",
   "execution_count": null,
   "metadata": {
    "id": "Fa6p6arifSL0"
   },
   "outputs": [],
   "source": [
    "gen_file = 'gpt2_gentext_{:%Y%m%d_%H%M%S}.txt'.format(datetime.utcnow())\n",
    "\n",
    "gpt2.generate_to_file(sess,\n",
    "                      destination_path=gen_file,\n",
    "                      length=500,\n",
    "                      temperature=0.7,\n",
    "                      nsamples=100,\n",
    "                      batch_size=20\n",
    "                      )"
   ]
  },
  {
   "cell_type": "markdown",
   "metadata": {
    "id": "0-LRex8lfv1g"
   },
   "source": [
    "Download the file by hand in the browser at left."
   ]
  },
  {
   "cell_type": "markdown",
   "metadata": {},
   "source": [
    "## Load a Trained Model Checkpoint"
   ]
  },
  {
   "cell_type": "markdown",
   "metadata": {
    "id": "RTa6zf3e_9gV"
   },
   "source": [
    "Uploaded your saved checkpoint and unzip it.\n",
    "\n",
    "The next cell will allow you to load the retrained model checkpoint + metadata necessary to generate text.\n",
    "\n",
    "This will reset or start the tensorflow session as necessary."
   ]
  },
  {
   "cell_type": "code",
   "execution_count": null,
   "metadata": {
    "colab": {
     "base_uri": "https://localhost:8080/"
    },
    "id": "-fxL77nvAMAX",
    "outputId": "8938432a-3b86-4102-f32b-362721ecb897"
   },
   "outputs": [],
   "source": [
    "tf.compat.v1.reset_default_graph()\n",
    "\n",
    "if not sess:\n",
    "    sess = gpt2.start_tf_sess()\n",
    "else:\n",
    "    sess = gpt2.reset_session(sess)\n",
    "\n",
    "gpt2.load_gpt2(sess, run_name='run1')"
   ]
  },
  {
   "cell_type": "markdown",
   "metadata": {
    "id": "ig-KVgkCDCKD"
   },
   "source": [
    "# Etcetera\n",
    "\n",
    "If the notebook has errors (e.g. GPU Sync Fail), force-kill the Colaboratory virtual machine and restart it with the command below:"
   ]
  },
  {
   "cell_type": "code",
   "execution_count": null,
   "metadata": {
    "id": "rIHiVP53FnsX"
   },
   "outputs": [],
   "source": [
    "!kill -9 -1"
   ]
  },
  {
   "cell_type": "markdown",
   "metadata": {
    "id": "wmTXWNUygS5E"
   },
   "source": [
    "# License\n",
    "\n",
    "MIT License\n",
    "\n",
    "Copyright (c) 2019 Max Woolf\n",
    "\n",
    "Permission is hereby granted, free of charge, to any person obtaining a copy\n",
    "of this software and associated documentation files (the \"Software\"), to deal\n",
    "in the Software without restriction, including without limitation the rights\n",
    "to use, copy, modify, merge, publish, distribute, sublicense, and/or sell\n",
    "copies of the Software, and to permit persons to whom the Software is\n",
    "furnished to do so, subject to the following conditions:\n",
    "\n",
    "The above copyright notice and this permission notice shall be included in all\n",
    "copies or substantial portions of the Software.\n",
    "\n",
    "THE SOFTWARE IS PROVIDED \"AS IS\", WITHOUT WARRANTY OF ANY KIND, EXPRESS OR\n",
    "IMPLIED, INCLUDING BUT NOT LIMITED TO THE WARRANTIES OF MERCHANTABILITY,\n",
    "FITNESS FOR A PARTICULAR PURPOSE AND NONINFRINGEMENT. IN NO EVENT SHALL THE\n",
    "AUTHORS OR COPYRIGHT HOLDERS BE LIABLE FOR ANY CLAIM, DAMAGES OR OTHER\n",
    "LIABILITY, WHETHER IN AN ACTION OF CONTRACT, TORT OR OTHERWISE, ARISING FROM,\n",
    "OUT OF OR IN CONNECTION WITH THE SOFTWARE OR THE USE OR OTHER DEALINGS IN THE\n",
    "SOFTWARE."
   ]
  },
  {
   "cell_type": "markdown",
   "metadata": {},
   "source": [
    "# Reference\n",
    "- Max's [blog post](https://minimaxir.com/2019/09/howto-gpt2/) for more information how to use this notebook!\n",
    "- Original repo: [gpt-2-simple](https://github.com/minimaxir/gpt-2-simple) by [Max Woolf](http://minimaxir.com). \n",
    "- Original [google colab](https://colab.research.google.com/drive/1VLG8e7YSEwypxU-noRNhsv5dW4NfTGce) from Max."
   ]
  }
 ],
 "metadata": {
  "accelerator": "GPU",
  "colab": {
   "collapsed_sections": [],
   "include_colab_link": true,
   "name": "Train a GPT-2 Text-Generating Model w/ GPU",
   "provenance": []
  },
  "kernelspec": {
   "display_name": "TensorFlow GPU 2.6 (py39)",
   "language": "python",
   "name": "tensorflow-gpu-2.6-py39"
  },
  "language_info": {
   "codemirror_mode": {
    "name": "ipython",
    "version": 3
   },
   "file_extension": ".py",
   "mimetype": "text/x-python",
   "name": "python",
   "nbconvert_exporter": "python",
   "pygments_lexer": "ipython3",
   "version": "3.9.7"
  }
 },
 "nbformat": 4,
 "nbformat_minor": 4
}
